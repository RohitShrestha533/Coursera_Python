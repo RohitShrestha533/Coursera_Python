{
 "cells": [
  {
   "cell_type": "code",
   "execution_count": null,
   "metadata": {},
   "outputs": [],
   "source": [
    "import pandas as pd\n",
    "import numpy as np\n",
    "import matplotlib.pyplot as plt\n",
    "df=pd.read_csv(\"/Users/shres/OneDrive/Desktop/Programming/CourseraPython/hospitals.csv\")\n",
    "x=df.head()\n",
    "print(x)\n",
    "daf=pd.DataFrame(x)\n",
    "y=daf[['Hospital Name']]\n",
    "print(y)\n",
    "type(y)\n",
    "daf.iloc[0,1]\n",
    "\n",
    "#ploting\n",
    "a=np.linspace(0,2*np.pi,100)\n",
    "b=np.sin(a)\n",
    "plt.plot(a,b)\n",
    "\n",
    "#array mean standard deviation max min\n",
    "arr = np.array([0,5,2,4,1])\n",
    "mean=arr.mean()\n",
    "mean\n",
    "\n",
    "sd=arr.std()\n",
    "sd\n",
    "\n",
    "max=arr.max()\n",
    "max\n",
    "\n",
    "min=arr.min()\n",
    "min\n",
    "\n",
    "\n"
   ]
  },
  {
   "cell_type": "markdown",
   "metadata": {},
   "source": []
  }
 ],
 "metadata": {
  "kernelspec": {
   "display_name": "base",
   "language": "python",
   "name": "python3"
  },
  "language_info": {
   "codemirror_mode": {
    "name": "ipython",
    "version": 3
   },
   "file_extension": ".py",
   "mimetype": "text/x-python",
   "name": "python",
   "nbconvert_exporter": "python",
   "pygments_lexer": "ipython3",
   "version": "3.12.4"
  }
 },
 "nbformat": 4,
 "nbformat_minor": 2
}
